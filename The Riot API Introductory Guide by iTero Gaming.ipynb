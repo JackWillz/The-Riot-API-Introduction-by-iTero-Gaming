{
 "cells": [
  {
   "cell_type": "markdown",
   "id": "2922b366",
   "metadata": {},
   "source": [
    "## WELCOME"
   ]
  },
  {
   "cell_type": "markdown",
   "id": "ddac9ec1",
   "metadata": {},
   "source": [
    "#### This is an introductory guide to the Riot API by Jack J from iTero Gaming"
   ]
  },
  {
   "cell_type": "markdown",
   "id": "632ffc1d",
   "metadata": {},
   "source": [
    "#### You can follow me on Twitter: https://twitter.com/JackJGaming\n",
    "#### or check out the site: https://itero.gg"
   ]
  },
  {
   "cell_type": "markdown",
   "id": "2b441096",
   "metadata": {},
   "source": [
    "##### An introduction to the Riot API"
   ]
  },
  {
   "cell_type": "markdown",
   "id": "6e73b387",
   "metadata": {},
   "source": [
    "Have you ever wondered how sites like u.gg and op.gg get their data? \\\n",
    "Are you looking to become an esports analyst but not sure what skills you need? \\\n",
    "Want to create an app or site but not sure how to build one?\n",
    "\n",
    "All these questions can be answered the same: The Riot API\n",
    "\n",
    "In this short introductory guide I will take you through the process of building your first ever Riot API product \\\n",
    "It will require some very basic Python knowledge, but I'll explain every step along the way\n",
    "\n",
    "I hope you enjoy, \n",
    "\n",
    "Jack J \\\n",
    "Founder & Lead Data Scientist @ iTero Gaming"
   ]
  },
  {
   "cell_type": "markdown",
   "id": "10bfce0b",
   "metadata": {},
   "source": [
    "### New to Python?"
   ]
  },
  {
   "cell_type": "markdown",
   "id": "c0076118",
   "metadata": {},
   "source": [
    "The tutorial doesn't require you to do any coding. Technically, you can do this all with zero knowledge \\\n",
    "Even so, you may want to learn more about how it works. \\\n",
    "There's 1000s of really good Python guides free on the internet, so I won't waste time writing another one \\\n",
    "I suggest going along with this tutorial and Googling certain areas where you're not sure what's happening \\\n",
    "If you have any questions, you could always join the Discord and ask one of the many knowledgeable persons there!\n",
    "\n",
    "You run each cell (the grey ones with the square brackets on the left, like the one below) by first clicking into it and EITHER \\\n",
    "Press \"Run\" (top bar above) \\\n",
    "OR press Ctrl + Enter \\\n",
    "OR press Alt + Enter, which will run the cell AND create a new empty one below it\n",
    "\n",
    "Have a test on the cell below"
   ]
  },
  {
   "cell_type": "code",
   "execution_count": null,
   "id": "7d78d595",
   "metadata": {},
   "outputs": [],
   "source": [
    "print(\"hello computer don't you worry i'm just learning Python\")"
   ]
  },
  {
   "cell_type": "markdown",
   "id": "25afbaea",
   "metadata": {},
   "source": [
    "### Getting a key"
   ]
  },
  {
   "cell_type": "markdown",
   "id": "aacaf258",
   "metadata": {},
   "source": [
    "Head over to https://developer.riotgames.com/ \\\n",
    "Login with your Riot Account and accept the terms of service \\\n",
    "At the bottom, click \"I'm not a Robot\" and regenerate your API key \\\n",
    "Copy the API key below"
   ]
  },
  {
   "cell_type": "code",
   "execution_count": null,
   "id": "7fa76d6f",
   "metadata": {},
   "outputs": [],
   "source": [
    "api_key = \"\""
   ]
  },
  {
   "cell_type": "markdown",
   "id": "0547bc8f",
   "metadata": {},
   "source": [
    "### Our First API Call"
   ]
  },
  {
   "cell_type": "markdown",
   "id": "2a03beb5",
   "metadata": {},
   "source": [
    "Go back to the developer portal and at the top, click \"APIS\" \\\n",
    "On the left there will be a list of all the available APIs that Riot offers \\\n",
    "Don't be overwhelmed, it covers most of their games and we will only need a small number of them \n",
    "\n",
    "Scroll down until you find \"Summoner-V4\", once you click it you will see a list of API calls in the middle \\\n",
    "From here, click on the API called: /lol/summoner/v4/summoners/by-name/{summonerName} \\\n",
    "Scroll to the bottom of the page and type in your Summoner Name, select your Region and then select Development API Key \\\n",
    "Then, click \"EXECUTE REQUEST\" \n",
    "\n",
    "You should see a response code of 200, then below that the Response Body with information about your account \n",
    "\n",
    "Scroll back up, just below \"EXECUTE REQUEST\" you will see a URL that looks something like the one below \\\n",
    "Replace the below api_url with the one you have on the API portal\n"
   ]
  },
  {
   "cell_type": "code",
   "execution_count": null,
   "id": "23ffc310",
   "metadata": {},
   "outputs": [],
   "source": [
    "api_url = \"https://euw1.api.riotgames.com/lol/summoner/v4/summoners/by-name/Jack%20J\""
   ]
  },
  {
   "cell_type": "markdown",
   "id": "70644922",
   "metadata": {},
   "source": [
    "We will be managing all our API requests through the \"requests\" library, which should be pre-installed"
   ]
  },
  {
   "cell_type": "code",
   "execution_count": null,
   "id": "1573fd90",
   "metadata": {},
   "outputs": [],
   "source": [
    "import requests"
   ]
  },
  {
   "cell_type": "markdown",
   "id": "a74057d1",
   "metadata": {},
   "source": [
    "We can then send off any API request we want, so let's send off our URL"
   ]
  },
  {
   "cell_type": "code",
   "execution_count": null,
   "id": "b1e271b6",
   "metadata": {},
   "outputs": [],
   "source": [
    "requests.get(api_url)"
   ]
  },
  {
   "cell_type": "markdown",
   "id": "90a9bdff",
   "metadata": {},
   "source": [
    "401? \n",
    "\n",
    "If you return to the portal and scroll up, you'll see a 401 error means: Unauthorized \\\n",
    "That's because we haven't attached the API key to our request!\n",
    "\n",
    "When dealing with APIs, we tag on arguments to the request by adding \"?\" to the end of the url, followed by the variable"
   ]
  },
  {
   "cell_type": "code",
   "execution_count": null,
   "id": "cad14350",
   "metadata": {},
   "outputs": [],
   "source": [
    "api_url = api_url + '?api_key=' + api_key"
   ]
  },
  {
   "cell_type": "code",
   "execution_count": null,
   "id": "290d3765",
   "metadata": {},
   "outputs": [],
   "source": [
    "api_url"
   ]
  },
  {
   "cell_type": "code",
   "execution_count": null,
   "id": "4b19c8bf",
   "metadata": {},
   "outputs": [],
   "source": [
    "requests.get(api_url)"
   ]
  },
  {
   "cell_type": "markdown",
   "id": "78b40f34",
   "metadata": {},
   "source": [
    "Great! Now we're getting a 200 (which means successful) \\\n",
    "But where's the data? \\\n",
    "To get it, we need to assign the request to a variable and call the JSON"
   ]
  },
  {
   "cell_type": "code",
   "execution_count": null,
   "id": "772f0bda",
   "metadata": {},
   "outputs": [],
   "source": [
    "resp = requests.get(api_url)\n",
    "player_info = resp.json()\n",
    "player_info"
   ]
  },
  {
   "cell_type": "markdown",
   "id": "41c2fe01",
   "metadata": {},
   "source": [
    "And there we go! \\\n",
    "We've successfully sent off and retrieved our first API request"
   ]
  },
  {
   "cell_type": "markdown",
   "id": "ca35d60f",
   "metadata": {},
   "source": [
    "#### Match Data"
   ]
  },
  {
   "cell_type": "markdown",
   "id": "b1ee4cdc",
   "metadata": {},
   "source": [
    "That was easy, but it's not much to show-off \\\n",
    "The next thing we're going to do is get some historic match data \n",
    "\n",
    "To do this, go back to the portal and click \"MATCH-V5\" on the far left \\\n",
    "Go the option called: /lol/match/v5/matches/by-puuid/{puuid}/ids \\\n",
    "As we can see from the \"{puuid}\" above, it needs the accounts puuid - luckily we go that from the previous API!"
   ]
  },
  {
   "cell_type": "code",
   "execution_count": null,
   "id": "24b36423",
   "metadata": {},
   "outputs": [],
   "source": [
    "puuid = player_info['puuid']\n",
    "puuid"
   ]
  },
  {
   "cell_type": "markdown",
   "id": "a1a752f7",
   "metadata": {},
   "source": [
    "Scroll down on the portal until you see the box asking for the puuid \\\n",
    "Copy and paste the puuid above into the \"puuid\" box \\\n",
    "Leave the Query Parameters for now but update the REGION & then APP TO EXECUTE AGAINST to Development API Key \\\n",
    "Execute Request!\n",
    "\n",
    "You should see a response code of 200, and the body contains a list of keys \\\n",
    "Let's copy the REQUEST URL from the portal so we can get everything into Python"
   ]
  },
  {
   "cell_type": "code",
   "execution_count": null,
   "id": "0ee69eae",
   "metadata": {},
   "outputs": [],
   "source": [
    "api_url = \"https://europe.api.riotgames.com/lol/match/v5/matches/by-puuid/dIWQhEOVCY9QT93Jz0EX6YxQIfI3zsyL7tVNmyApKpPmvgNnq5zBu-VKtgGvt2bWzj-fQqd1mYVZMA/ids?start=0&count=20\""
   ]
  },
  {
   "cell_type": "markdown",
   "id": "997e8c36",
   "metadata": {},
   "source": [
    "If you inspect the URL, you'll see there's already arguments at the end: \"?start=0&count=20\"\\\n",
    "In order to add another argument (your API key), we'll use the \"&\" symbol"
   ]
  },
  {
   "cell_type": "code",
   "execution_count": null,
   "id": "3f643c1b",
   "metadata": {},
   "outputs": [],
   "source": [
    "#                    & instead of ?, because there's already a ? in the original\n",
    "api_url = api_url + '&api_key=' + api_key \n",
    "api_url"
   ]
  },
  {
   "cell_type": "markdown",
   "id": "52285f23",
   "metadata": {},
   "source": [
    "Now, the same as before - let's get the data from this url"
   ]
  },
  {
   "cell_type": "code",
   "execution_count": null,
   "id": "a7e682fb",
   "metadata": {},
   "outputs": [],
   "source": [
    "resp = requests.get(api_url)\n",
    "match_ids = resp.json()\n",
    "\n",
    "match_ids"
   ]
  },
  {
   "cell_type": "markdown",
   "id": "32686b95",
   "metadata": {},
   "source": [
    "This API contains a list of the match IDs from our accounts last 20 games \n",
    "\n",
    "Let's take the first one of these"
   ]
  },
  {
   "cell_type": "code",
   "execution_count": null,
   "id": "51bcd895",
   "metadata": {},
   "outputs": [],
   "source": [
    "recent_match = match_ids[0]\n",
    "recent_match"
   ]
  },
  {
   "cell_type": "markdown",
   "id": "bec41e3a",
   "metadata": {},
   "source": [
    "If we return to the portal, scroll back up and open this API: \"/lol/match/v5/matches/{matchId}\"\n",
    "\n",
    "Scroll down and copy the match ID into the \"matchId\" input, again selecting the right region & app\n",
    "\n",
    "If everything goes well, you'll see our trusty 200 response code and a lot of data in RESPONSE BODY\n",
    "\n",
    "Once again, copy and paste the REQUEST URL"
   ]
  },
  {
   "cell_type": "code",
   "execution_count": null,
   "id": "66542d71",
   "metadata": {},
   "outputs": [],
   "source": [
    "api_url = \"https://europe.api.riotgames.com/lol/match/v5/matches/EUW1_5982385567\""
   ]
  },
  {
   "cell_type": "code",
   "execution_count": null,
   "id": "75da06c8",
   "metadata": {},
   "outputs": [],
   "source": [
    "# This one doesn't have any arguments (see, there's no \"?\" above) so we'll add it with the api key\n",
    "api_url = api_url + '?api_key=' + api_key"
   ]
  },
  {
   "cell_type": "code",
   "execution_count": null,
   "id": "3e336695",
   "metadata": {},
   "outputs": [],
   "source": [
    "resp = requests.get(api_url)\n",
    "match_data = resp.json()\n",
    "\n",
    "match_data"
   ]
  },
  {
   "cell_type": "markdown",
   "id": "d4fee67e",
   "metadata": {},
   "source": [
    "That's a lot of data!\n",
    "Let's break it down"
   ]
  },
  {
   "cell_type": "code",
   "execution_count": null,
   "id": "80419898",
   "metadata": {},
   "outputs": [],
   "source": [
    "# the two headline sections of the data\n",
    "match_data.keys()"
   ]
  },
  {
   "cell_type": "code",
   "execution_count": null,
   "id": "5afe26d2",
   "metadata": {},
   "outputs": [],
   "source": [
    "# \"metadata\" contains the puuid for every player in the game\n",
    "match_data['metadata']\n",
    "\n",
    "# NOTE: The order in which these puuid's appear in this the \"participants\" list\n",
    "# is the same order they will appear for data elsewhere in this dictionary (useful for later)"
   ]
  },
  {
   "cell_type": "code",
   "execution_count": null,
   "id": "80171052",
   "metadata": {},
   "outputs": [],
   "source": [
    "# \"info\" contains lots of data about the game, like when it was created, how long it lasted etc...\n",
    "match_data['info'].keys()"
   ]
  },
  {
   "cell_type": "code",
   "execution_count": null,
   "id": "73b10062",
   "metadata": {},
   "outputs": [],
   "source": [
    "# For instance, this is how long the game lasted:\n",
    "match_data['info']['gameDuration'] / 60 # / 60 to get it into minutes"
   ]
  },
  {
   "cell_type": "code",
   "execution_count": null,
   "id": "b7c79cc8",
   "metadata": {},
   "outputs": [],
   "source": [
    "# Within info, participants contains a list of length 10, each with further information about the player\n",
    "len(match_data['info']['participants'])"
   ]
  },
  {
   "cell_type": "code",
   "execution_count": null,
   "id": "94106c11",
   "metadata": {},
   "outputs": [],
   "source": [
    "# To save time, we'll assign a variable for first player\n",
    "player_data = match_data['info']['participants'][0]\n",
    "player_data"
   ]
  },
  {
   "cell_type": "code",
   "execution_count": null,
   "id": "26949894",
   "metadata": {},
   "outputs": [],
   "source": [
    "# Then, we can find out information about them in the game, like which Champion they're playing...\n",
    "player_data['championName']"
   ]
  },
  {
   "cell_type": "code",
   "execution_count": null,
   "id": "4f1b6233",
   "metadata": {},
   "outputs": [],
   "source": [
    "# Maybe their KDA?\n",
    "k = player_data['kills']\n",
    "d = player_data['deaths']\n",
    "a = player_data['assists']\n",
    "print(\"Kills:\", k)\n",
    "print(\"Deaths:\", d)\n",
    "print(\"Assists:\", a)\n",
    "print(\"KDA:\", (k + a) / d)"
   ]
  },
  {
   "cell_type": "code",
   "execution_count": null,
   "id": "398cf384",
   "metadata": {},
   "outputs": [],
   "source": [
    "# or their role?\n",
    "player_data['teamPosition']"
   ]
  },
  {
   "cell_type": "markdown",
   "id": "3bb0522f",
   "metadata": {},
   "source": [
    "However we don't want the information about any random player in that game! \\\n",
    "We want to get information about the player we were searching for originally, so we need to find out where they are \n",
    "\n",
    "To do this, we grab the list of all the participants puuids and then we use \"index\" to find out where our player is"
   ]
  },
  {
   "cell_type": "code",
   "execution_count": null,
   "id": "9695801b",
   "metadata": {},
   "outputs": [],
   "source": [
    "# A list of all the participants puuids\n",
    "participants = match_data['metadata']['participants']\n",
    "# Now, find where in the data our players puuid is found\n",
    "player_index = participants.index(puuid)\n",
    "player_index"
   ]
  },
  {
   "cell_type": "code",
   "execution_count": null,
   "id": "5a09e002",
   "metadata": {},
   "outputs": [],
   "source": [
    "# This should match the puuid we used to search for the match IDs, go back up and check\n",
    "participants[player_index]"
   ]
  },
  {
   "cell_type": "markdown",
   "id": "e0472fd2",
   "metadata": {},
   "source": [
    "Let's check it works by using this index to get the players name from the data"
   ]
  },
  {
   "cell_type": "code",
   "execution_count": null,
   "id": "25c57a52",
   "metadata": {},
   "outputs": [],
   "source": [
    "# Hopefully the name below is what you inputted into the first function!\n",
    "match_data['info']['participants'][player_index]['summonerName']"
   ]
  },
  {
   "cell_type": "markdown",
   "id": "efc2576d",
   "metadata": {},
   "source": [
    "Now we know where our player is, we can grab their data"
   ]
  },
  {
   "cell_type": "code",
   "execution_count": null,
   "id": "00fcd7f8",
   "metadata": {},
   "outputs": [],
   "source": [
    "player_data = match_data['info']['participants'][player_index]\n",
    "\n",
    "champ = player_data['championName']\n",
    "k = player_data['kills']\n",
    "d = player_data['deaths']\n",
    "a = player_data['assists']\n",
    "win = player_data['win']\n",
    "\n",
    "print(\"Champ:\", champ, \"Kills:\", k, \"Deaths:\", d, \"Assists:\", a, \"Win:\", win)"
   ]
  },
  {
   "cell_type": "markdown",
   "id": "0242df24",
   "metadata": {},
   "source": [
    "### Gathering Data\n",
    "\n",
    "For whatever we're building, we may want to gather lots of data about a player \\\n",
    "To make this easier, we'll build some functions\n",
    "Let's start by looking at the API calls we've already made"
   ]
  },
  {
   "cell_type": "code",
   "execution_count": null,
   "id": "a8dfe4dc",
   "metadata": {},
   "outputs": [],
   "source": [
    "# The first function simply gets the puuid, given a summoner name and region\n",
    "# This is exactly the same as our first example, except we're building the API URL from scratch\n",
    "def get_puuid(summoner_name, region, api_key):\n",
    "    api_url = (\n",
    "        \"https://\" + \n",
    "        region +\n",
    "        \".api.riotgames.com/lol/summoner/v4/summoners/by-name/\" +\n",
    "        summoner_name +\n",
    "        \"?api_key=\" +\n",
    "        api_key\n",
    "    )\n",
    "    \n",
    "    print(api_url)\n",
    "    \n",
    "    resp = requests.get(api_url)\n",
    "    player_info = resp.json()\n",
    "    puuid = player_info['puuid']\n",
    "    return puuid  "
   ]
  },
  {
   "cell_type": "code",
   "execution_count": null,
   "id": "1f573834",
   "metadata": {},
   "outputs": [],
   "source": [
    "summoner_name = 'Jack J'\n",
    "region = 'euw1'\n",
    "\n",
    "puuid = get_puuid(summoner_name, region, api_key)\n",
    "puuid"
   ]
  },
  {
   "cell_type": "code",
   "execution_count": null,
   "id": "af4f4e70",
   "metadata": {},
   "outputs": [],
   "source": [
    "# The function to get a list of all the match IDs (2nd example above) given a players puuid and mass region\n",
    "def get_match_ids(puuid, mass_region, api_key):\n",
    "    api_url = (\n",
    "        \"https://\" +\n",
    "        mass_region +\n",
    "        \".api.riotgames.com/lol/match/v5/matches/by-puuid/\" +\n",
    "        puuid + \n",
    "        \"/ids?start=0&count=20\" + \n",
    "        \"&api_key=\" + \n",
    "        api_key\n",
    "    )\n",
    "    \n",
    "    print(api_url)\n",
    "    \n",
    "    resp = requests.get(api_url)\n",
    "    match_ids = resp.json()\n",
    "    return match_ids      "
   ]
  },
  {
   "cell_type": "code",
   "execution_count": null,
   "id": "fdad599b",
   "metadata": {},
   "outputs": [],
   "source": [
    "# NOTE: region and mass_region are different\n",
    "# for instance, NA1 is the North American region\n",
    "# which is part of the AMERICAS mass region\n",
    "# EUW1 is Europe West region, part of the EUROPE mass region\n",
    "mass_region = 'EUROPE'\n",
    "\n",
    "match_ids = get_match_ids(puuid, mass_region, api_key)\n",
    "match_ids"
   ]
  },
  {
   "cell_type": "code",
   "execution_count": null,
   "id": "239e3760",
   "metadata": {},
   "outputs": [],
   "source": [
    "# From a given match ID and mass region, get the data about the game\n",
    "def get_match_data(match_id, mass_region, api_key):\n",
    "    api_url = (\n",
    "        \"https://\" + \n",
    "        mass_region + \n",
    "        \".api.riotgames.com/lol/match/v5/matches/\" +\n",
    "        match_id + \n",
    "        \"?api_key=\" + \n",
    "        api_key\n",
    "    )\n",
    "    \n",
    "    resp = requests.get(api_url)\n",
    "    match_data = resp.json()\n",
    "    return match_data     "
   ]
  },
  {
   "cell_type": "code",
   "execution_count": null,
   "id": "c49e99f0",
   "metadata": {},
   "outputs": [],
   "source": [
    "match_id = match_ids[0]\n",
    "match_data = get_match_data(match_id, mass_region, api_key)\n",
    "match_data"
   ]
  },
  {
   "cell_type": "code",
   "execution_count": null,
   "id": "5d305f74",
   "metadata": {},
   "outputs": [],
   "source": [
    "# Given the match data and a players puuid, return the data about just them\n",
    "def find_player_data(match_data, puuid):\n",
    "    participants = match_data['metadata']['participants']\n",
    "    player_index = participants.index(puuid)\n",
    "    player_data = match_data['info']['participants'][player_index]\n",
    "    return player_data"
   ]
  },
  {
   "cell_type": "code",
   "execution_count": null,
   "id": "a2671ce9",
   "metadata": {},
   "outputs": [],
   "source": [
    "find_player_data(match_data, puuid)"
   ]
  },
  {
   "cell_type": "markdown",
   "id": "3a4f0f9e",
   "metadata": {},
   "source": [
    "We haven't done anything new above, just put everything into functions so it's easier to call them later!"
   ]
  },
  {
   "cell_type": "markdown",
   "id": "c94a0555",
   "metadata": {},
   "source": [
    "Now, let's say we want to look at our last 20 games and extract the data \\\n",
    "To do this, we simply loop through the list of match ids and perform the functions \\\n",
    "For my example, each time we'll save information about the Champion, KDA and Result"
   ]
  },
  {
   "cell_type": "code",
   "execution_count": null,
   "id": "65f34a93",
   "metadata": {},
   "outputs": [],
   "source": [
    "# We initialise an empty dictionary to store data for each game\n",
    "data = {\n",
    "    'champion': [],\n",
    "    'kills': [],\n",
    "    'deaths': [],\n",
    "    'assists': [],\n",
    "    'win': []\n",
    "}\n",
    "\n",
    "for match_id in match_ids:\n",
    "    print(match_id)\n",
    "    \n",
    "    # run the two functions to get the player data from the match ID\n",
    "    match_data = get_match_data(match_id, mass_region, api_key)\n",
    "    player_data = find_player_data(match_data, puuid)\n",
    "    \n",
    "    # assign the variables we're interested in\n",
    "    champion = player_data['championName']\n",
    "    k = player_data['kills']\n",
    "    d = player_data['deaths']\n",
    "    a = player_data['assists']\n",
    "    win = player_data['win']\n",
    "     \n",
    "    # add them to our dataset\n",
    "    data['champion'].append(champion)\n",
    "    data['kills'].append(k)\n",
    "    data['deaths'].append(d)\n",
    "    data['assists'].append(a)\n",
    "    data['win'].append(win)    "
   ]
  },
  {
   "cell_type": "code",
   "execution_count": null,
   "id": "f0ec6678",
   "metadata": {},
   "outputs": [],
   "source": [
    "# Data on the last 20 games of the account in question\n",
    "data"
   ]
  },
  {
   "cell_type": "markdown",
   "id": "1c0d4ea1",
   "metadata": {},
   "source": [
    "The next step requires the \"pandas\" package \\\n",
    "You may already have this installed, if not: https://pandas.pydata.org/getting_started.html"
   ]
  },
  {
   "cell_type": "code",
   "execution_count": null,
   "id": "f6dafbfb",
   "metadata": {},
   "outputs": [],
   "source": [
    "import pandas as pd # the \"as\" part just renames it to make it quicker to type"
   ]
  },
  {
   "cell_type": "markdown",
   "id": "a3334514",
   "metadata": {},
   "source": [
    "We'll now convert our data dictionary into a dataframe"
   ]
  },
  {
   "cell_type": "code",
   "execution_count": null,
   "id": "a449a40f",
   "metadata": {},
   "outputs": [],
   "source": [
    "df = pd.DataFrame(data)\n",
    "df"
   ]
  },
  {
   "cell_type": "markdown",
   "id": "5a96fe52",
   "metadata": {},
   "source": [
    "We'll also convert the previous code into a function for later use"
   ]
  },
  {
   "cell_type": "code",
   "execution_count": null,
   "id": "ef2f5395",
   "metadata": {},
   "outputs": [],
   "source": [
    "def gather_all_data(puuid, match_ids, mass_region, api_key):\n",
    "    # We initialise an empty dictionary to store data for each game\n",
    "    data = {\n",
    "        'champion': [],\n",
    "        'kills': [],\n",
    "        'deaths': [],\n",
    "        'assists': [],\n",
    "        'win': []\n",
    "    }\n",
    "\n",
    "    for match_id in match_ids:\n",
    "        print(match_id)\n",
    "\n",
    "        # run the two functions to get the player data from the match ID\n",
    "        match_data = get_match_data(match_id, mass_region, api_key)\n",
    "        player_data = find_player_data(match_data, puuid)\n",
    "\n",
    "        # assign the variables we're interested in\n",
    "        champion = player_data['championName']\n",
    "        k = player_data['kills']\n",
    "        d = player_data['deaths']\n",
    "        a = player_data['assists']\n",
    "        win = player_data['win']\n",
    "\n",
    "        # add them to our dataset\n",
    "        data['champion'].append(champion)\n",
    "        data['kills'].append(k)\n",
    "        data['deaths'].append(d)\n",
    "        data['assists'].append(a)\n",
    "        data['win'].append(win)    \n",
    "    \n",
    "    df = pd.DataFrame(data)\n",
    "    \n",
    "    return df"
   ]
  },
  {
   "cell_type": "code",
   "execution_count": null,
   "id": "e5ece001",
   "metadata": {},
   "outputs": [],
   "source": [
    "df = gather_all_data(puuid, match_ids, mass_region, api_key)"
   ]
  },
  {
   "cell_type": "code",
   "execution_count": null,
   "id": "ce917161",
   "metadata": {},
   "outputs": [],
   "source": [
    "df"
   ]
  },
  {
   "cell_type": "markdown",
   "id": "4cda99f8",
   "metadata": {},
   "source": [
    "As you can see, the \"win\" colun is a boolean (True or False) \\\n",
    "To make it easier to use, we'll convert it to an int (1 or 0)"
   ]
  },
  {
   "cell_type": "code",
   "execution_count": null,
   "id": "86669a94",
   "metadata": {},
   "outputs": [],
   "source": [
    "df['win'] = df['win'].astype(int)"
   ]
  },
  {
   "cell_type": "code",
   "execution_count": null,
   "id": "dc5490c8",
   "metadata": {},
   "outputs": [],
   "source": [
    "df"
   ]
  },
  {
   "cell_type": "markdown",
   "id": "41443b6b",
   "metadata": {},
   "source": [
    "Now we have it as a dataframe, it's much easier to do what we want, such as:"
   ]
  },
  {
   "cell_type": "code",
   "execution_count": null,
   "id": "c3ba1706",
   "metadata": {},
   "outputs": [],
   "source": [
    "# Find the averages\n",
    "df.mean(numeric_only=True) # numeric_only stops it trying to average the \"champion\" column"
   ]
  },
  {
   "cell_type": "code",
   "execution_count": null,
   "id": "3501a7ad",
   "metadata": {},
   "outputs": [],
   "source": [
    "# Get the averages per champion\n",
    "df.groupby('champion').mean()"
   ]
  },
  {
   "cell_type": "code",
   "execution_count": null,
   "id": "b421fa35",
   "metadata": {},
   "outputs": [],
   "source": [
    "# or maybe order your games by amount of kills\n",
    "df.sort_values('kills')"
   ]
  },
  {
   "cell_type": "markdown",
   "id": "b68279aa",
   "metadata": {},
   "source": [
    "### Adding arguments to the API calls"
   ]
  },
  {
   "cell_type": "markdown",
   "id": "f1df601e",
   "metadata": {},
   "source": [
    "20 games really isn't enough to evaluate an account, and it also includes ARAMs and Normals which you may not want \\\n",
    "So let's go back to one of our functions and add some arguments"
   ]
  },
  {
   "cell_type": "code",
   "execution_count": null,
   "id": "d606d753",
   "metadata": {},
   "outputs": [],
   "source": [
    "# The original function\n",
    "def get_match_ids(puuid, mass_region, api_key):\n",
    "    api_url = (\n",
    "        \"https://\" +\n",
    "        mass_region +\n",
    "        \".api.riotgames.com/lol/match/v5/matches/by-puuid/\" +\n",
    "        puuid + \n",
    "        \"/ids?start=0&count=20\" + \n",
    "        \"&api_key=\" + \n",
    "        api_key\n",
    "    )\n",
    "    \n",
    "    print(api_url)\n",
    "    \n",
    "    resp = requests.get(api_url)\n",
    "    match_ids = resp.json()\n",
    "    return match_ids      "
   ]
  },
  {
   "cell_type": "markdown",
   "id": "8cf99442",
   "metadata": {},
   "source": [
    "As you can see from the original function there is already an argument for \"count=20\" \\\n",
    "So all we need to do is replace that with a variable of our choice"
   ]
  },
  {
   "cell_type": "code",
   "execution_count": null,
   "id": "d21deb2f",
   "metadata": {},
   "outputs": [],
   "source": [
    "# Updated function where you can set how many games you want\n",
    "def get_match_ids(puuid, mass_region, no_games, api_key):\n",
    "    api_url = (\n",
    "        \"https://\" +\n",
    "        mass_region +\n",
    "        \".api.riotgames.com/lol/match/v5/matches/by-puuid/\" +\n",
    "        puuid + \n",
    "        \"/ids?start=0\" + \n",
    "        \"&count=\" +\n",
    "        str(no_games) + \n",
    "        \"&api_key=\" + \n",
    "        api_key\n",
    "    )\n",
    "    \n",
    "    print(api_url)\n",
    "    \n",
    "    resp = requests.get(api_url)\n",
    "    match_ids = resp.json()\n",
    "    return match_ids      "
   ]
  },
  {
   "cell_type": "code",
   "execution_count": null,
   "id": "b0ba9107",
   "metadata": {},
   "outputs": [],
   "source": [
    "no_games = 25 # Leave this as 25 for now, otherwise you may run into issues that we cover shortly!\n",
    "\n",
    "match_ids = get_match_ids(puuid, mass_region, no_games, api_key)\n",
    "\n",
    "print(len(match_ids))"
   ]
  },
  {
   "cell_type": "markdown",
   "id": "3d3daad8",
   "metadata": {},
   "source": [
    "But let's say we ONLY want data from a certain queue type (I'll use Ranked Solos) \\\n",
    "How do we know what argument to use? "
   ]
  },
  {
   "cell_type": "markdown",
   "id": "0bc437f8",
   "metadata": {},
   "source": [
    "Go back to the portal, return to MATCH-V5 (on the left) and open \"/lol/match/v5/matches/by-puuid/{puuid}/ids\" again \\\n",
    "\n",
    "Scroll to the bottom and fill in the form again with the same puuid, region and app \\\n",
    "Except this time, also add \"420\" to the \"queue\" input then EXECUTE REQUEST\n",
    "\n",
    "Copy and paste the REQUEST URL"
   ]
  },
  {
   "cell_type": "code",
   "execution_count": null,
   "id": "60683407",
   "metadata": {},
   "outputs": [],
   "source": [
    "\"https://europe.api.riotgames.com/lol/match/v5/matches/by-puuid/dIWQhEOVCY9QT93Jz0EX6YxQIfI3zsyL7tVNmyApKpPmvgNnq5zBu-VKtgGvt2bWzj-fQqd1mYVZMA/ids?queue=420&start=0&count=20\""
   ]
  },
  {
   "cell_type": "markdown",
   "id": "3a9731b0",
   "metadata": {},
   "source": [
    "As you can see, there's a new argument: \"queue=420\"\n",
    "\n",
    "If you wondering where to find all the queue types, you can go here: https://static.developer.riotgames.com/docs/lol/queues.json \n",
    "\n",
    "Simply find the queue type you want from the description and replace the \"queue\" with the queueId \n",
    "\n",
    "Let's add this into our function"
   ]
  },
  {
   "cell_type": "code",
   "execution_count": null,
   "id": "450f5da7",
   "metadata": {},
   "outputs": [],
   "source": [
    "# Updated function where you can set which queue to take data from\n",
    "def get_match_ids(puuid, mass_region, no_games, queue_id, api_key):\n",
    "    api_url = (\n",
    "        \"https://\" +\n",
    "        mass_region +\n",
    "        \".api.riotgames.com/lol/match/v5/matches/by-puuid/\" +\n",
    "        puuid + \n",
    "        \"/ids?start=0\" + \n",
    "        \"&count=\" +\n",
    "        str(no_games) + \n",
    "        \"&queue=\" + \n",
    "        str(queue_id) + \n",
    "        \"&api_key=\" + \n",
    "        api_key\n",
    "    )\n",
    "    \n",
    "    print(api_url)\n",
    "    \n",
    "    resp = requests.get(api_url)\n",
    "    match_ids = resp.json()\n",
    "    return match_ids      "
   ]
  },
  {
   "cell_type": "code",
   "execution_count": null,
   "id": "6a7769be",
   "metadata": {},
   "outputs": [],
   "source": [
    "queue_id = 420\n",
    "\n",
    "match_ids = get_match_ids(puuid, mass_region, no_games, queue_id, api_key)\n",
    "match_ids\n",
    "\n",
    "# Experiment with changing to different queue_ids\n",
    "# For ones that don't exist, the match_ids should be an empty list"
   ]
  },
  {
   "cell_type": "markdown",
   "id": "aba0051b",
   "metadata": {},
   "source": [
    "### Rate Limits"
   ]
  },
  {
   "cell_type": "markdown",
   "id": "62741296",
   "metadata": {},
   "source": [
    "If you return to the home page of the developer portal \\\n",
    "https://developer.riotgames.com/ \\\n",
    "Under your API key you'll see: RATE LIMITS \\\n",
    "This is currently set to 20 per second & 100 per 2 minutes \n",
    "\n",
    "So what happens if we go over it? \\\n",
    "Let's send off the same API request over 100 times to see:"
   ]
  },
  {
   "cell_type": "code",
   "execution_count": null,
   "id": "bf354b4b",
   "metadata": {
    "scrolled": true
   },
   "outputs": [],
   "source": [
    "# NOTE, we're sending off the same match ID 200 times, which isn't useful and only for the example\n",
    "# yours may break before you reach 100, depending how fast you're going through the notebook\n",
    "for i in range(200):\n",
    "    print(\"Attempt:\", i)\n",
    "    match_data = get_match_data(match_id, mass_region, api_key)\n",
    "    print(\"Match Duration:\", match_data['info']['gameDuration'])"
   ]
  },
  {
   "cell_type": "markdown",
   "id": "ec807f9b",
   "metadata": {},
   "source": [
    "The code runs fine and prints the game duration UNTIL the 101st \\\n",
    "\n",
    "So let's inspect what it returned:"
   ]
  },
  {
   "cell_type": "code",
   "execution_count": null,
   "id": "b796b006",
   "metadata": {},
   "outputs": [],
   "source": [
    "match_data"
   ]
  },
  {
   "cell_type": "markdown",
   "id": "b83cd69a",
   "metadata": {},
   "source": [
    "A status_code of 429, which means we've exceeded our rate limit\n",
    "\n",
    "The maximum amount of recent games you can request is 100\n",
    "\n",
    "So, from start to finish, our code currently can send up to 102 requests \\\n",
    "1 to get the summoner names puuid \\\n",
    "1 to get the puuids most 100 recent games \\\n",
    "up to 100 to get data on those games\n",
    "\n",
    "So, let's update that last function to handle hitting the rate limit"
   ]
  },
  {
   "cell_type": "code",
   "execution_count": null,
   "id": "6e95b7c6",
   "metadata": {},
   "outputs": [],
   "source": [
    "# Original function to get match ID\n",
    "def get_match_data(match_id, mass_region, api_key):\n",
    "    api_url = (\n",
    "        \"https://\" + \n",
    "        mass_region + \n",
    "        \".api.riotgames.com/lol/match/v5/matches/\" +\n",
    "        match_id + \n",
    "        \"?api_key=\" + \n",
    "        api_key\n",
    "    )\n",
    "    \n",
    "    resp = requests.get(api_url)\n",
    "    print(\"Status Code:\", resp.status_code) # We can read the status code straight from the \"resp\" object\n",
    "    match_data = resp.json()\n",
    "    return match_data     "
   ]
  },
  {
   "cell_type": "markdown",
   "id": "34ba8420",
   "metadata": {},
   "source": [
    "First, let's do the loop again except this time printing the status_code from the \"resp\" object at each stage\n",
    "\n",
    "NOTE: Depending on how quickly you're going through the notebook, you may get the error before the 101st attempt \\\n",
    "since you are still within the 2 minute rate limit from the previous example"
   ]
  },
  {
   "cell_type": "code",
   "execution_count": null,
   "id": "691a7ac5",
   "metadata": {
    "scrolled": true
   },
   "outputs": [],
   "source": [
    "for i in range(120):\n",
    "    print(\"Attempt:\", i)\n",
    "    get_match_data(match_id, mass_region, api_key)"
   ]
  },
  {
   "cell_type": "markdown",
   "id": "e95dc6eb",
   "metadata": {},
   "source": [
    "We can now catch the error and prevent it from breaking our code \n",
    "\n",
    "To do this, we'll use the \"time\" package, which should be preinstalled"
   ]
  },
  {
   "cell_type": "code",
   "execution_count": null,
   "id": "867aa8cc",
   "metadata": {},
   "outputs": [],
   "source": [
    "import time"
   ]
  },
  {
   "cell_type": "markdown",
   "id": "7d7f580b",
   "metadata": {},
   "source": [
    "It contains a useful function called \"sleep\", which simply pauses your function for the given amount of seconds"
   ]
  },
  {
   "cell_type": "code",
   "execution_count": null,
   "id": "0e541f39",
   "metadata": {},
   "outputs": [],
   "source": [
    "print(\"Good Night...\")\n",
    "time.sleep(3)\n",
    "print(\"...Good Morning\")\n",
    "\n",
    "# if you decided to change the number to 1000 and now regret it, click Kernel->Interrupt"
   ]
  },
  {
   "cell_type": "code",
   "execution_count": null,
   "id": "73563e5b",
   "metadata": {},
   "outputs": [],
   "source": [
    "# Updated function to sleep until it's succesful\n",
    "def get_match_data(match_id, mass_region, api_key):\n",
    "    api_url = (\n",
    "        \"https://\" + \n",
    "        mass_region + \n",
    "        \".api.riotgames.com/lol/match/v5/matches/\" +\n",
    "        match_id + \n",
    "        \"?api_key=\" + \n",
    "        api_key\n",
    "    )\n",
    "    \n",
    "    # we need to add this \"while\" statement so that we continuously loop until it's successful\n",
    "    while True:\n",
    "        resp = requests.get(api_url)\n",
    "        \n",
    "        # whenever we see a 429, we sleep for 10 seconds and then restart from the top of the \"while\" loop\n",
    "        if resp.status_code == 429:\n",
    "            print(\"Rate Limit hit, sleeping for 10 seconds\")\n",
    "            time.sleep(10)\n",
    "            # continue means start the loop again\n",
    "            continue\n",
    "            \n",
    "        # if resp.status_code isn't 429, then we carry on to the end of the function and return the data\n",
    "        match_data = resp.json()\n",
    "        return match_data     "
   ]
  },
  {
   "cell_type": "code",
   "execution_count": null,
   "id": "47549121",
   "metadata": {
    "scrolled": true
   },
   "outputs": [],
   "source": [
    "# Again, depending on how quick you are running these functions you may immediately hit the sleep\n",
    "# NOTE: This function takes 2 minutes to run (since it hits the rate limit and then sleeps)\n",
    "for i in range(101):\n",
    "    print(\"Attempt:\", i)\n",
    "    get_match_data(match_id, mass_region, api_key)"
   ]
  },
  {
   "cell_type": "markdown",
   "id": "2b47e441",
   "metadata": {},
   "source": [
    "### Wrapping it all up\n",
    "\n",
    "With that complete, we can now wrap all our functions together into one:"
   ]
  },
  {
   "cell_type": "code",
   "execution_count": null,
   "id": "1de15df4",
   "metadata": {},
   "outputs": [],
   "source": [
    "def master_function(summoner_name, region, mass_region, no_games, queue_id, api_key):\n",
    "    puuid = get_puuid(summoner_name, region, api_key)\n",
    "    match_ids = get_match_ids(puuid, mass_region, no_games, queue_id, api_key)\n",
    "    df = gather_all_data(puuid, match_ids, mass_region, api_key)\n",
    "    return df"
   ]
  },
  {
   "cell_type": "code",
   "execution_count": null,
   "id": "c22949c4",
   "metadata": {},
   "outputs": [],
   "source": [
    "summoner_name = \"Jack J\"\n",
    "region = \"euw1\"\n",
    "mass_region = \"EUROPE\"\n",
    "no_games = 100\n",
    "queue_id = 420"
   ]
  },
  {
   "cell_type": "code",
   "execution_count": null,
   "id": "84726402",
   "metadata": {
    "scrolled": true
   },
   "outputs": [],
   "source": [
    "# Takes 2 minutes to run\n",
    "df = master_function(summoner_name, region, mass_region, no_games, queue_id, api_key)"
   ]
  },
  {
   "cell_type": "markdown",
   "id": "069888ed",
   "metadata": {},
   "source": [
    "Finally, let's do something useful with the information:"
   ]
  },
  {
   "cell_type": "code",
   "execution_count": null,
   "id": "f97728f5",
   "metadata": {},
   "outputs": [],
   "source": [
    "# print some introductory stuff\n",
    "print(\"Hello\", summoner_name, \"of\", region.upper()) # upper simply capitalises the region\n",
    "print(\"Here are some interesting statistics about your last 100 solo ranked games\")\n",
    "\n",
    "# create a count column\n",
    "df['count'] = 1 \n",
    "\n",
    "# the \"agg\" allows us to get the average of every column but sum the count                                       # see?\n",
    "champ_df = df.groupby('champion').agg({'kills': 'mean', 'deaths': 'mean', 'assists': 'mean', 'win': 'mean', 'count': 'sum'})\n",
    "\n",
    "# we reset in the index so we can still use the \"champion\" column\n",
    "champ_df.reset_index(inplace=True)\n",
    "\n",
    "# we limit it to only champions where you've played 2 or more games\n",
    "champ_df = champ_df[champ_df['count'] >= 2]\n",
    "\n",
    "# create a kda column\n",
    "champ_df['kda'] = (champ_df['kills'] + champ_df['assists']) / champ_df['deaths']\n",
    "\n",
    "# sort the table by KDA, starting from the highest\n",
    "champ_df = champ_df.sort_values('kda', ascending=False) # ascending determines whether it's highest to lowest or vice-versa\n",
    "\n",
    "# assign the first row and last row to a variable so we can print information about it\n",
    "best_row = champ_df.iloc[0] # .iloc[0] simply takes the first row in dataframe\n",
    "worst_row = champ_df.iloc[-1] # .iloc[-1] takes the last row in a dataframe\n",
    "\n",
    "print(\"Your best KDA is on\", best_row['champion'], \"with a KDA of\", best_row['kda'], \"over\", best_row['count'], \"game/s\")\n",
    "print(\"Your worst KDA is on\", worst_row['champion'], \"with a KDA of\", worst_row['kda'], \"over\", worst_row['count'], \"game/s\")\n",
    "\n",
    "# sort by count instead\n",
    "champ_df = champ_df.sort_values('count', ascending=False)\n",
    "\n",
    "# get your most played champ\n",
    "row = champ_df.iloc[0]\n",
    "\n",
    "# assign and format the win rate\n",
    "win_rate = row['win']\n",
    "win_rate = str(round(win_rate * 100, 1)) + \"%\"\n",
    "\n",
    "print(\"Your highest played Champion is\", row['champion'], \"with\", row['count'], 'game/s', \n",
    "     \"and an average Win Rate of\", win_rate)\n",
    "\n",
    "# finally, sort by highest kills in a game (note, not using the champ_df groupby anymore but the raw data)\n",
    "highest_kills = df.sort_values('kills', ascending=False)\n",
    "row = highest_kills.iloc[0]\n",
    "print(\"Your highest kill game was with\", row['champion'], \"where you had\", row['kills'], \"kills\")\n"
   ]
  },
  {
   "cell_type": "markdown",
   "id": "581c442a",
   "metadata": {},
   "source": [
    "### What now?\n",
    "\n",
    "Have you finished the tutorial but now have the taste for it and want to do more? \n",
    "\n",
    "New to Python? If this is your first time coding, I suggest doing an introductory tutorial before anything else. \\\n",
    "There's tonnes of really good tutorials, guides and videos out there.\n",
    "\n",
    "If the Python side made sense to you, here's your challenge:\n",
    "- Add a new argument to one of the functions, I've set-up a space at the very bottom with everything together for you \\\n",
    "to play with, get hacking!\n",
    "- Create a new function to get a players Champion Mastery, add a line to our final output saying who the highest mastery champion is\n",
    "- Jump into the \"match timeline\" API and get some time specific data, like how many kills you average at 7 minutes\n",
    "- From the LEAGUE-V4 API, grab 100 players from a league of your choice. Build a loop that gathers data about all 100 players recent games. Find out what the average number of kills a player has at 15 minutes for each role.\n",
    "- BUILD SOMETHING NEW! Share it on our Discord. \n",
    "\n"
   ]
  },
  {
   "cell_type": "markdown",
   "id": "332fc785",
   "metadata": {},
   "source": [
    "### What's else is available?\n",
    "\n",
    "With that, we've concluded our introduction to the Riot API\n",
    "\n",
    "To help you think of potential ideas, I'll list a few of the popular APIs that you can use:\n",
    "\n",
    "- How much Mastery a player has on each Champion\n",
    "- In-depth game detail for every minute of the game (i.e. how much Gold/XP each player has at 12 minutes)\n",
    "- In-depth objective and kill data, like who killed who, when and where\n",
    "- Ranked information, such as their current rank for each queue\n",
    "- Who is currently in Challenger, Grand Master & Master (& every queue below that too!)\n",
    "- And much more...!\n",
    "\n",
    "There's also further advanced topics that I haven't covered in this introduction but you should be aware of:\n",
    "\n",
    "- Advanced error handling, 429 Rate Limits is just one of many and each requires it's own logic\n",
    "- Speeding up your code! Eventually, you may decide to build something that requires a lot of data and async/multiprocessing/threading will help\n",
    "- Building and hosting the frontend of the application\n",
    "- Getting Riot to approve your application for public use\n",
    "\n",
    "I've been Jack J from iTero Gaming, I've hoped you've learnt a lot and I'm excited to see what you build!\n",
    "\n",
    "\n",
    "\n",
    "\n",
    "You can join our Discord to ask questions, show off what you're building or get inspiration:\n",
    "https://discord.gg/DmSUDGEW6V\n",
    "\n",
    "You can follow me on Twitter to see what I'm using the Riot API for:\n",
    "https://twitter.com/JackJGaming\n",
    "\n",
    "I write a weekly article about statistics/AI/esports/gaming, you can subscribe here: https://medium.com/subscribe/@JackJGaming\n",
    "\n",
    "Check out the iTero Gaming website to see what we've built:\n",
    "https://itero.gg/\n",
    "\n",
    "\n"
   ]
  }
 ],
 "metadata": {
  "kernelspec": {
   "display_name": "Python 3 (ipykernel)",
   "language": "python",
   "name": "python3"
  },
  "language_info": {
   "codemirror_mode": {
    "name": "ipython",
    "version": 3
   },
   "file_extension": ".py",
   "mimetype": "text/x-python",
   "name": "python",
   "nbconvert_exporter": "python",
   "pygments_lexer": "ipython3",
   "version": "3.8.10"
  }
 },
 "nbformat": 4,
 "nbformat_minor": 5
}
